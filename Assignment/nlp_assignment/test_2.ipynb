{
 "cells": [
  {
   "cell_type": "markdown",
   "metadata": {},
   "source": [
    "# Plan:\n",
    "\n",
    "- Load the data\n",
    "- Visualise\n",
    "- Preprocess\n",
    "- Dataset definition\n",
    "- Model definition\n",
    "- Model training\n",
    "- Model testing\n",
    "- Results analysis"
   ]
  },
  {
   "cell_type": "code",
   "execution_count": 1,
   "metadata": {},
   "outputs": [
    {
     "name": "stderr",
     "output_type": "stream",
     "text": [
      "c:\\Users\\pniki\\anaconda3\\envs\\nlpenv\\lib\\site-packages\\tqdm\\auto.py:21: TqdmWarning: IProgress not found. Please update jupyter and ipywidgets. See https://ipywidgets.readthedocs.io/en/stable/user_install.html\n",
      "  from .autonotebook import tqdm as notebook_tqdm\n",
      "c:\\Users\\pniki\\anaconda3\\envs\\nlpenv\\lib\\site-packages\\transformers\\utils\\generic.py:311: UserWarning: torch.utils._pytree._register_pytree_node is deprecated. Please use torch.utils._pytree.register_pytree_node instead.\n",
      "  torch.utils._pytree._register_pytree_node(\n"
     ]
    }
   ],
   "source": [
    "import pandas as pd\n",
    "import numpy as np\n",
    "from sklearn.preprocessing import StandardScaler , LabelEncoder\n",
    "\n",
    "from torch.utils.data import DataLoader , Dataset\n",
    "from transformers import BertTokenizer , BertModel\n",
    "import torch\n",
    "import torch.nn as nn\n",
    "import torch.nn.functional as F\n",
    "from torch.optim import Adam\n",
    "import random as rn\n",
    "\n",
    "# set the seed\n",
    "# seed = 11\n",
    "# np.random.seed(seed)\n",
    "# torch.manual_seed(seed)\n",
    "\n",
    "np.random.seed(17)\n",
    "rn.seed(12345)"
   ]
  },
  {
   "cell_type": "markdown",
   "metadata": {},
   "source": [
    "# Load the data"
   ]
  },
  {
   "cell_type": "code",
   "execution_count": 2,
   "metadata": {},
   "outputs": [
    {
     "name": "stdout",
     "output_type": "stream",
     "text": [
      "   Polarity              Aspect TargetTerm Offsets  \\\n",
      "0  positive    AMBIENCE#GENERAL    seating   18:25   \n",
      "1  positive    AMBIENCE#GENERAL  trattoria   25:34   \n",
      "2  positive        FOOD#QUALITY       food  98:102   \n",
      "3  negative     SERVICE#GENERAL      STAFF    5:10   \n",
      "4  positive  FOOD#STYLE_OPTIONS       menu     4:8   \n",
      "\n",
      "                                            Sentence  \n",
      "0  short and sweet – seating is great:it's romant...  \n",
      "1  This quaint and romantic trattoria is at the t...  \n",
      "2  The have over 100 different beers to offer thi...  \n",
      "3                        THIS STAFF SHOULD BE FIRED.  \n",
      "4  The menu looked great, and the waiter was very...  \n"
     ]
    }
   ],
   "source": [
    "train_path = \"data/traindata.csv\"\n",
    "val_path = \"data/devdata.csv\"\n",
    "\n",
    "column_names = ['Polarity', 'Aspect', 'TargetTerm', 'Offsets', 'Sentence']\n",
    "\n",
    "df_train = pd.read_csv(train_path, sep='\\t', header=None, names=column_names)\n",
    "df_val = pd.read_csv(val_path, sep='\\t', header=None, names=column_names)\n",
    "\n",
    "print(df_train.head())"
   ]
  },
  {
   "cell_type": "markdown",
   "metadata": {},
   "source": [
    "# Make the datasets"
   ]
  },
  {
   "cell_type": "code",
   "execution_count": 3,
   "metadata": {},
   "outputs": [],
   "source": [
    "# X_train = df_train.iloc[:, 1:]\n",
    "# y_train = df_train.iloc[:, 0]\n",
    "# print(X_train.shape , y_train.shape)\n",
    "\n",
    "# X_val = df_val.iloc[:, 1:]\n",
    "# y_val = df_val.iloc[:, 0]\n",
    "# print(X_val.shape , y_val.shape)"
   ]
  },
  {
   "cell_type": "code",
   "execution_count": 4,
   "metadata": {},
   "outputs": [
    {
     "name": "stdout",
     "output_type": "stream",
     "text": [
      "Polarity\n",
      "positive    0.701929\n",
      "negative    0.259481\n",
      "neutral     0.038589\n",
      "Name: proportion, dtype: float64\n",
      "Polarity\n",
      "positive    0.702128\n",
      "negative    0.260638\n",
      "neutral     0.037234\n",
      "Name: proportion, dtype: float64\n"
     ]
    }
   ],
   "source": [
    "# check the distribution of the target variable\n",
    "# print(y_train.value_counts(normalize=True))\n",
    "# print(y_val.value_counts(normalize=True))\n",
    "\n",
    "print(df_train['Polarity'].value_counts(normalize=True))\n",
    "print(df_val['Polarity'].value_counts(normalize=True))"
   ]
  },
  {
   "cell_type": "markdown",
   "metadata": {},
   "source": [
    "# Data Proprocessing"
   ]
  },
  {
   "cell_type": "code",
   "execution_count": 5,
   "metadata": {},
   "outputs": [
    {
     "data": {
      "text/html": [
       "<div>\n",
       "<style scoped>\n",
       "    .dataframe tbody tr th:only-of-type {\n",
       "        vertical-align: middle;\n",
       "    }\n",
       "\n",
       "    .dataframe tbody tr th {\n",
       "        vertical-align: top;\n",
       "    }\n",
       "\n",
       "    .dataframe thead th {\n",
       "        text-align: right;\n",
       "    }\n",
       "</style>\n",
       "<table border=\"1\" class=\"dataframe\">\n",
       "  <thead>\n",
       "    <tr style=\"text-align: right;\">\n",
       "      <th></th>\n",
       "      <th>Polarity</th>\n",
       "      <th>Aspect</th>\n",
       "      <th>TargetTerm</th>\n",
       "      <th>Offsets</th>\n",
       "      <th>Sentence</th>\n",
       "    </tr>\n",
       "  </thead>\n",
       "  <tbody>\n",
       "    <tr>\n",
       "      <th>0</th>\n",
       "      <td>positive</td>\n",
       "      <td>AMBIENCE#GENERAL</td>\n",
       "      <td>seating</td>\n",
       "      <td>18:25</td>\n",
       "      <td>short and sweet – seating is great:it's romant...</td>\n",
       "    </tr>\n",
       "    <tr>\n",
       "      <th>1</th>\n",
       "      <td>positive</td>\n",
       "      <td>AMBIENCE#GENERAL</td>\n",
       "      <td>trattoria</td>\n",
       "      <td>25:34</td>\n",
       "      <td>This quaint and romantic trattoria is at the t...</td>\n",
       "    </tr>\n",
       "    <tr>\n",
       "      <th>2</th>\n",
       "      <td>positive</td>\n",
       "      <td>FOOD#QUALITY</td>\n",
       "      <td>food</td>\n",
       "      <td>98:102</td>\n",
       "      <td>The have over 100 different beers to offer thi...</td>\n",
       "    </tr>\n",
       "    <tr>\n",
       "      <th>3</th>\n",
       "      <td>negative</td>\n",
       "      <td>SERVICE#GENERAL</td>\n",
       "      <td>STAFF</td>\n",
       "      <td>5:10</td>\n",
       "      <td>THIS STAFF SHOULD BE FIRED.</td>\n",
       "    </tr>\n",
       "    <tr>\n",
       "      <th>4</th>\n",
       "      <td>positive</td>\n",
       "      <td>FOOD#STYLE_OPTIONS</td>\n",
       "      <td>menu</td>\n",
       "      <td>4:8</td>\n",
       "      <td>The menu looked great, and the waiter was very...</td>\n",
       "    </tr>\n",
       "  </tbody>\n",
       "</table>\n",
       "</div>"
      ],
      "text/plain": [
       "   Polarity              Aspect TargetTerm Offsets  \\\n",
       "0  positive    AMBIENCE#GENERAL    seating   18:25   \n",
       "1  positive    AMBIENCE#GENERAL  trattoria   25:34   \n",
       "2  positive        FOOD#QUALITY       food  98:102   \n",
       "3  negative     SERVICE#GENERAL      STAFF    5:10   \n",
       "4  positive  FOOD#STYLE_OPTIONS       menu     4:8   \n",
       "\n",
       "                                            Sentence  \n",
       "0  short and sweet – seating is great:it's romant...  \n",
       "1  This quaint and romantic trattoria is at the t...  \n",
       "2  The have over 100 different beers to offer thi...  \n",
       "3                        THIS STAFF SHOULD BE FIRED.  \n",
       "4  The menu looked great, and the waiter was very...  "
      ]
     },
     "execution_count": 5,
     "metadata": {},
     "output_type": "execute_result"
    }
   ],
   "source": [
    "df_train.head()"
   ]
  },
  {
   "cell_type": "code",
   "execution_count": 6,
   "metadata": {},
   "outputs": [],
   "source": [
    "import re\n",
    "\n",
    "# def clean_text(text):\n",
    "#     \"\"\"Cleans the input text.\"\"\"\n",
    "#     text = text.lower()  # Convert to lowercase\n",
    "#     text = re.sub(r'[^a-zA-Z\\s]', '', text, re.I|re.A)  # Remove non-alphabetic characters\n",
    "#     text = ' '.join(text.split())  # Remove extra spaces\n",
    "#     return text\n",
    "\n",
    "\n",
    "# def highlight_target_term(sentence, target_term, offsets):\n",
    "#     \"\"\"\n",
    "#     Inserts special tokens around the target term in the sentence based on offsets.\n",
    "#     Args:\n",
    "#     - sentence (str): The sentence from the data.\n",
    "#     - target_term (str): The target term to be highlighted.\n",
    "#     - offsets (str): The start and end offsets of the target term in the sentence.\n",
    "    \n",
    "#     Returns:\n",
    "#     - modified_sentence (str): The sentence with the target term highlighted.\n",
    "#     \"\"\"\n",
    "#     start, end = map(int, offsets.split(':'))  # Convert offsets to integer\n",
    "#     # Insert special tokens around the target term\n",
    "#     modified_sentence = f\"{sentence[:start]} [unused0] {sentence[start:end]} [unused1] {sentence[end:]}\"\n",
    "#     #modified_sentence = modified_sentence.lower()\n",
    "#     return modified_sentence\n",
    "\n",
    "def highlight_target_term(sentence, target_term, offsets, crop_chars=40):\n",
    "    \"\"\"\n",
    "    Inserts special tokens around the target term in the sentence based on offsets and crops the sentence.\n",
    "    \n",
    "    Args:\n",
    "    - sentence (str): The sentence from the data.\n",
    "    - target_term (str): The target term to be highlighted.\n",
    "    - offsets (str): The start and end offsets of the target term in the sentence.\n",
    "    - crop_chars (int): The number of characters to include before and after the target term.\n",
    "    \n",
    "    Returns:\n",
    "    - modified_sentence (str): The sentence with the target term highlighted and cropped.\n",
    "    \"\"\"\n",
    "    start, end = map(int, offsets.split(':'))\n",
    "    # Crop the sentence to a fixed window size around the target term\n",
    "    cropped_sentence = sentence[max(0, start-crop_chars):min(len(sentence), end+crop_chars)]\n",
    "    # Insert special tokens around the target term\n",
    "    highlighted_sentence = (cropped_sentence[:start-max(0, start-crop_chars)] + \n",
    "                            \" [unused0] \" + cropped_sentence[start-max(0, start-crop_chars):end-max(0, start-crop_chars)] + \n",
    "                            \" [unused1] \" + cropped_sentence[end-max(0, start-crop_chars):])\n",
    "    return highlighted_sentence\n",
    "\n",
    "\n",
    "# Apply cleaning function to both training and validation datasets\n",
    "# df_train['Sentence'] = df_train['Sentence'].apply(clean_text)\n",
    "# df_val['Sentence'] = df_val['Sentence'].apply(clean_text)\n",
    "df_train['ModifiedSentence'] = df_train.apply(lambda row: highlight_target_term(row['Sentence'], row['TargetTerm'], row['Offsets']), axis=1)\n",
    "df_val['ModifiedSentence'] = df_val.apply(lambda row: highlight_target_term(row['Sentence'], row['TargetTerm'], row['Offsets']), axis=1)"
   ]
  },
  {
   "cell_type": "code",
   "execution_count": 7,
   "metadata": {},
   "outputs": [
    {
     "name": "stdout",
     "output_type": "stream",
     "text": [
      "short and sweet –  [unused0] seating [unused1]  is great:it's romantic,cozy and private\n",
      "This quaint and romantic  [unused0] trattoria [unused1]  is at the top of my Manhattan restauran\n",
      "that made my husband very happy and the  [unused0] food [unused1]  was delicious, if I must recommend a di\n",
      "THIS  [unused0] STAFF [unused1]  SHOULD BE FIRED.\n",
      "The  [unused0] menu [unused1]  looked great, and the waiter was very n\n"
     ]
    }
   ],
   "source": [
    "#df_train.head()\n",
    "# print the entire ModifiedSentence for the first 5 rows\n",
    "for i in range(5):\n",
    "    print(df_train['ModifiedSentence'][i])\n"
   ]
  },
  {
   "cell_type": "code",
   "execution_count": 8,
   "metadata": {},
   "outputs": [
    {
     "name": "stderr",
     "output_type": "stream",
     "text": [
      "c:\\Users\\pniki\\anaconda3\\envs\\nlpenv\\lib\\site-packages\\sklearn\\utils\\validation.py:605: FutureWarning: is_sparse is deprecated and will be removed in a future version. Check `isinstance(dtype, pd.SparseDtype)` instead.\n",
      "  if is_sparse(pd_dtype):\n",
      "c:\\Users\\pniki\\anaconda3\\envs\\nlpenv\\lib\\site-packages\\sklearn\\utils\\validation.py:614: FutureWarning: is_sparse is deprecated and will be removed in a future version. Check `isinstance(dtype, pd.SparseDtype)` instead.\n",
      "  if is_sparse(pd_dtype) or not is_extension_array_dtype(pd_dtype):\n",
      "c:\\Users\\pniki\\anaconda3\\envs\\nlpenv\\lib\\site-packages\\sklearn\\utils\\validation.py:605: FutureWarning: is_sparse is deprecated and will be removed in a future version. Check `isinstance(dtype, pd.SparseDtype)` instead.\n",
      "  if is_sparse(pd_dtype):\n",
      "c:\\Users\\pniki\\anaconda3\\envs\\nlpenv\\lib\\site-packages\\sklearn\\utils\\validation.py:614: FutureWarning: is_sparse is deprecated and will be removed in a future version. Check `isinstance(dtype, pd.SparseDtype)` instead.\n",
      "  if is_sparse(pd_dtype) or not is_extension_array_dtype(pd_dtype):\n"
     ]
    }
   ],
   "source": [
    "# Initialize the LabelEncoder\n",
    "polarity_encoder = LabelEncoder()\n",
    "\n",
    "# Fit and transform the training labels, transform the validation labels\n",
    "df_train['Polarity'] = polarity_encoder.fit_transform(df_train['Polarity'])\n",
    "df_val['Polarity'] = polarity_encoder.transform(df_val['Polarity'])"
   ]
  },
  {
   "cell_type": "code",
   "execution_count": 9,
   "metadata": {},
   "outputs": [
    {
     "data": {
      "text/html": [
       "<div>\n",
       "<style scoped>\n",
       "    .dataframe tbody tr th:only-of-type {\n",
       "        vertical-align: middle;\n",
       "    }\n",
       "\n",
       "    .dataframe tbody tr th {\n",
       "        vertical-align: top;\n",
       "    }\n",
       "\n",
       "    .dataframe thead th {\n",
       "        text-align: right;\n",
       "    }\n",
       "</style>\n",
       "<table border=\"1\" class=\"dataframe\">\n",
       "  <thead>\n",
       "    <tr style=\"text-align: right;\">\n",
       "      <th></th>\n",
       "      <th>Polarity</th>\n",
       "      <th>Aspect</th>\n",
       "      <th>TargetTerm</th>\n",
       "      <th>Offsets</th>\n",
       "      <th>Sentence</th>\n",
       "      <th>ModifiedSentence</th>\n",
       "    </tr>\n",
       "  </thead>\n",
       "  <tbody>\n",
       "    <tr>\n",
       "      <th>0</th>\n",
       "      <td>2</td>\n",
       "      <td>AMBIENCE#GENERAL</td>\n",
       "      <td>seating</td>\n",
       "      <td>18:25</td>\n",
       "      <td>short and sweet – seating is great:it's romant...</td>\n",
       "      <td>short and sweet –  [unused0] seating [unused1]...</td>\n",
       "    </tr>\n",
       "    <tr>\n",
       "      <th>1</th>\n",
       "      <td>2</td>\n",
       "      <td>AMBIENCE#GENERAL</td>\n",
       "      <td>trattoria</td>\n",
       "      <td>25:34</td>\n",
       "      <td>This quaint and romantic trattoria is at the t...</td>\n",
       "      <td>This quaint and romantic  [unused0] trattoria ...</td>\n",
       "    </tr>\n",
       "    <tr>\n",
       "      <th>2</th>\n",
       "      <td>2</td>\n",
       "      <td>FOOD#QUALITY</td>\n",
       "      <td>food</td>\n",
       "      <td>98:102</td>\n",
       "      <td>The have over 100 different beers to offer thi...</td>\n",
       "      <td>that made my husband very happy and the  [unus...</td>\n",
       "    </tr>\n",
       "    <tr>\n",
       "      <th>3</th>\n",
       "      <td>0</td>\n",
       "      <td>SERVICE#GENERAL</td>\n",
       "      <td>STAFF</td>\n",
       "      <td>5:10</td>\n",
       "      <td>THIS STAFF SHOULD BE FIRED.</td>\n",
       "      <td>THIS  [unused0] STAFF [unused1]  SHOULD BE FIRED.</td>\n",
       "    </tr>\n",
       "    <tr>\n",
       "      <th>4</th>\n",
       "      <td>2</td>\n",
       "      <td>FOOD#STYLE_OPTIONS</td>\n",
       "      <td>menu</td>\n",
       "      <td>4:8</td>\n",
       "      <td>The menu looked great, and the waiter was very...</td>\n",
       "      <td>The  [unused0] menu [unused1]  looked great, a...</td>\n",
       "    </tr>\n",
       "  </tbody>\n",
       "</table>\n",
       "</div>"
      ],
      "text/plain": [
       "   Polarity              Aspect TargetTerm Offsets  \\\n",
       "0         2    AMBIENCE#GENERAL    seating   18:25   \n",
       "1         2    AMBIENCE#GENERAL  trattoria   25:34   \n",
       "2         2        FOOD#QUALITY       food  98:102   \n",
       "3         0     SERVICE#GENERAL      STAFF    5:10   \n",
       "4         2  FOOD#STYLE_OPTIONS       menu     4:8   \n",
       "\n",
       "                                            Sentence  \\\n",
       "0  short and sweet – seating is great:it's romant...   \n",
       "1  This quaint and romantic trattoria is at the t...   \n",
       "2  The have over 100 different beers to offer thi...   \n",
       "3                        THIS STAFF SHOULD BE FIRED.   \n",
       "4  The menu looked great, and the waiter was very...   \n",
       "\n",
       "                                    ModifiedSentence  \n",
       "0  short and sweet –  [unused0] seating [unused1]...  \n",
       "1  This quaint and romantic  [unused0] trattoria ...  \n",
       "2  that made my husband very happy and the  [unus...  \n",
       "3  THIS  [unused0] STAFF [unused1]  SHOULD BE FIRED.  \n",
       "4  The  [unused0] menu [unused1]  looked great, a...  "
      ]
     },
     "execution_count": 9,
     "metadata": {},
     "output_type": "execute_result"
    }
   ],
   "source": [
    "df_train.head()"
   ]
  },
  {
   "cell_type": "code",
   "execution_count": 10,
   "metadata": {},
   "outputs": [
    {
     "data": {
      "text/html": [
       "<div>\n",
       "<style scoped>\n",
       "    .dataframe tbody tr th:only-of-type {\n",
       "        vertical-align: middle;\n",
       "    }\n",
       "\n",
       "    .dataframe tbody tr th {\n",
       "        vertical-align: top;\n",
       "    }\n",
       "\n",
       "    .dataframe thead th {\n",
       "        text-align: right;\n",
       "    }\n",
       "</style>\n",
       "<table border=\"1\" class=\"dataframe\">\n",
       "  <thead>\n",
       "    <tr style=\"text-align: right;\">\n",
       "      <th></th>\n",
       "      <th>Polarity</th>\n",
       "      <th>Aspect</th>\n",
       "      <th>ModifiedSentence</th>\n",
       "    </tr>\n",
       "  </thead>\n",
       "  <tbody>\n",
       "    <tr>\n",
       "      <th>0</th>\n",
       "      <td>2</td>\n",
       "      <td>AMBIENCE#GENERAL</td>\n",
       "      <td>short and sweet –  [unused0] seating [unused1]...</td>\n",
       "    </tr>\n",
       "    <tr>\n",
       "      <th>1</th>\n",
       "      <td>2</td>\n",
       "      <td>AMBIENCE#GENERAL</td>\n",
       "      <td>This quaint and romantic  [unused0] trattoria ...</td>\n",
       "    </tr>\n",
       "    <tr>\n",
       "      <th>2</th>\n",
       "      <td>2</td>\n",
       "      <td>FOOD#QUALITY</td>\n",
       "      <td>that made my husband very happy and the  [unus...</td>\n",
       "    </tr>\n",
       "    <tr>\n",
       "      <th>3</th>\n",
       "      <td>0</td>\n",
       "      <td>SERVICE#GENERAL</td>\n",
       "      <td>THIS  [unused0] STAFF [unused1]  SHOULD BE FIRED.</td>\n",
       "    </tr>\n",
       "    <tr>\n",
       "      <th>4</th>\n",
       "      <td>2</td>\n",
       "      <td>FOOD#STYLE_OPTIONS</td>\n",
       "      <td>The  [unused0] menu [unused1]  looked great, a...</td>\n",
       "    </tr>\n",
       "  </tbody>\n",
       "</table>\n",
       "</div>"
      ],
      "text/plain": [
       "   Polarity              Aspect  \\\n",
       "0         2    AMBIENCE#GENERAL   \n",
       "1         2    AMBIENCE#GENERAL   \n",
       "2         2        FOOD#QUALITY   \n",
       "3         0     SERVICE#GENERAL   \n",
       "4         2  FOOD#STYLE_OPTIONS   \n",
       "\n",
       "                                    ModifiedSentence  \n",
       "0  short and sweet –  [unused0] seating [unused1]...  \n",
       "1  This quaint and romantic  [unused0] trattoria ...  \n",
       "2  that made my husband very happy and the  [unus...  \n",
       "3  THIS  [unused0] STAFF [unused1]  SHOULD BE FIRED.  \n",
       "4  The  [unused0] menu [unused1]  looked great, a...  "
      ]
     },
     "execution_count": 10,
     "metadata": {},
     "output_type": "execute_result"
    }
   ],
   "source": [
    "# remove the target term and offsets and sentence columns\n",
    "df_train = df_train.drop(columns=['TargetTerm', 'Offsets', 'Sentence'])\n",
    "df_val = df_val.drop(columns=['TargetTerm', 'Offsets', 'Sentence'])\n",
    "df_train.head()"
   ]
  },
  {
   "cell_type": "code",
   "execution_count": 11,
   "metadata": {},
   "outputs": [
    {
     "data": {
      "text/html": [
       "<div>\n",
       "<style scoped>\n",
       "    .dataframe tbody tr th:only-of-type {\n",
       "        vertical-align: middle;\n",
       "    }\n",
       "\n",
       "    .dataframe tbody tr th {\n",
       "        vertical-align: top;\n",
       "    }\n",
       "\n",
       "    .dataframe thead th {\n",
       "        text-align: right;\n",
       "    }\n",
       "</style>\n",
       "<table border=\"1\" class=\"dataframe\">\n",
       "  <thead>\n",
       "    <tr style=\"text-align: right;\">\n",
       "      <th></th>\n",
       "      <th>Polarity</th>\n",
       "      <th>Aspect</th>\n",
       "      <th>ModifiedSentence</th>\n",
       "    </tr>\n",
       "  </thead>\n",
       "  <tbody>\n",
       "    <tr>\n",
       "      <th>0</th>\n",
       "      <td>2</td>\n",
       "      <td>LOCATION#GENERAL</td>\n",
       "      <td>eat wine list, great service in a great  [unus...</td>\n",
       "    </tr>\n",
       "    <tr>\n",
       "      <th>1</th>\n",
       "      <td>0</td>\n",
       "      <td>RESTAURANT#GENERAL</td>\n",
       "      <td>I thought this  [unused0] place [unused1]  was...</td>\n",
       "    </tr>\n",
       "    <tr>\n",
       "      <th>2</th>\n",
       "      <td>2</td>\n",
       "      <td>FOOD#QUALITY</td>\n",
       "      <td>[unused0] Fish [unused1]  is so very fresh.</td>\n",
       "    </tr>\n",
       "    <tr>\n",
       "      <th>3</th>\n",
       "      <td>0</td>\n",
       "      <td>SERVICE#GENERAL</td>\n",
       "      <td>I showed it to the  [unused0] manager [unused1...</td>\n",
       "    </tr>\n",
       "    <tr>\n",
       "      <th>4</th>\n",
       "      <td>1</td>\n",
       "      <td>DRINKS#QUALITY</td>\n",
       "      <td>excellent, although I wouldn't say the  [unus...</td>\n",
       "    </tr>\n",
       "  </tbody>\n",
       "</table>\n",
       "</div>"
      ],
      "text/plain": [
       "   Polarity              Aspect  \\\n",
       "0         2    LOCATION#GENERAL   \n",
       "1         0  RESTAURANT#GENERAL   \n",
       "2         2        FOOD#QUALITY   \n",
       "3         0     SERVICE#GENERAL   \n",
       "4         1      DRINKS#QUALITY   \n",
       "\n",
       "                                    ModifiedSentence  \n",
       "0  eat wine list, great service in a great  [unus...  \n",
       "1  I thought this  [unused0] place [unused1]  was...  \n",
       "2        [unused0] Fish [unused1]  is so very fresh.  \n",
       "3  I showed it to the  [unused0] manager [unused1...  \n",
       "4   excellent, although I wouldn't say the  [unus...  "
      ]
     },
     "execution_count": 11,
     "metadata": {},
     "output_type": "execute_result"
    }
   ],
   "source": [
    "df_val.head()"
   ]
  },
  {
   "cell_type": "markdown",
   "metadata": {},
   "source": [
    "---"
   ]
  },
  {
   "cell_type": "markdown",
   "metadata": {},
   "source": [
    "# Dataset definition"
   ]
  },
  {
   "cell_type": "code",
   "execution_count": 12,
   "metadata": {},
   "outputs": [],
   "source": [
    "class SentimentDataset(Dataset):\n",
    "    \"\"\"\n",
    "    Dataset class for sentiment analysis with highlighted target terms.\n",
    "    \"\"\"\n",
    "    def __init__(self, modified_sentences, labels, tokenizer, max_len=128):\n",
    "        self.sentences = modified_sentences\n",
    "        self.labels = labels\n",
    "        self.tokenizer = tokenizer\n",
    "        self.max_len = max_len\n",
    "\n",
    "    def __len__(self):\n",
    "        return len(self.sentences)\n",
    "\n",
    "    def __getitem__(self, idx):\n",
    "        modified_sentence = str(self.sentences[idx])\n",
    "        label = self.labels[idx]\n",
    "        encoding = self.tokenizer.encode_plus(\n",
    "            modified_sentence,\n",
    "            add_special_tokens=True,  # Adds [CLS] and [SEP]\n",
    "            max_length=self.max_len,\n",
    "            truncation=True,\n",
    "            padding='max_length',\n",
    "            return_attention_mask=True,\n",
    "            return_tensors='pt',  # Return PyTorch tensors\n",
    "        )\n",
    "        return {\n",
    "            'input_ids': encoding['input_ids'].flatten(),\n",
    "            'attention_mask': encoding['attention_mask'].flatten(),\n",
    "            'labels': torch.tensor(label, dtype=torch.long)\n",
    "        }\n"
   ]
  },
  {
   "cell_type": "markdown",
   "metadata": {},
   "source": [
    "# Model definition"
   ]
  },
  {
   "cell_type": "code",
   "execution_count": 13,
   "metadata": {},
   "outputs": [],
   "source": [
    "class SentimentClassifier(nn.Module):\n",
    "    def __init__(self, n_classes, tokenizer):\n",
    "        super(SentimentClassifier, self).__init__()\n",
    "        self.bert = BertModel.from_pretrained('bert-base-uncased')\n",
    "        # Resize the token embeddings to accommodate new special tokens\n",
    "        self.bert.resize_token_embeddings(len(tokenizer))\n",
    "        self.drop1 = nn.Dropout(p=0.3)  # First dropout layer\n",
    "        self.fc1 = nn.Linear(self.bert.config.hidden_size, self.bert.config.hidden_size // 2)  # Fully connected layer\n",
    "        self.drop2 = nn.Dropout(p=0.2)  # Second dropout layer\n",
    "        self.layer_norm = nn.LayerNorm(self.bert.config.hidden_size // 2)  # Layer normalization\n",
    "        self.out = nn.Linear(self.bert.config.hidden_size // 2, n_classes)  # Final output layer\n",
    "    \n",
    "    def forward(self, input_ids, attention_mask):\n",
    "        \"\"\"\n",
    "        Forward pass of the model.\n",
    "        \n",
    "        Args:\n",
    "            input_ids (torch.Tensor): Tensor of token ids to be fed to a model.\n",
    "            attention_mask (torch.Tensor): Tensor of attention masks to avoid performing attention on padding token indices.\n",
    "            \n",
    "        Returns:\n",
    "            torch.Tensor: The logits for each input.\n",
    "        \"\"\"\n",
    "        # Pass inputs through BERT model\n",
    "        outputs = self.bert(input_ids=input_ids, attention_mask=attention_mask)\n",
    "        pooled_output = outputs.pooler_output  # Use the pooled output of BERT\n",
    "        \n",
    "        # Pass through the first dropout layer\n",
    "        dropped_output = self.drop1(pooled_output)\n",
    "        \n",
    "        # Pass through the first fully connected layer and apply ReLU activation\n",
    "        fc1_output = F.relu(self.fc1(dropped_output))\n",
    "        \n",
    "        # Pass through the second dropout layer\n",
    "        dropped_output = self.drop2(fc1_output)\n",
    "        \n",
    "        # Apply layer normalization\n",
    "        norm_output = self.layer_norm(dropped_output)\n",
    "        \n",
    "        # Final output layer\n",
    "        return self.out(norm_output)"
   ]
  },
  {
   "cell_type": "code",
   "execution_count": 14,
   "metadata": {},
   "outputs": [
    {
     "name": "stdout",
     "output_type": "stream",
     "text": [
      "cuda\n"
     ]
    }
   ],
   "source": [
    "device = torch.device('cuda' if torch.cuda.is_available() else 'cpu')\n",
    "print(device)"
   ]
  },
  {
   "cell_type": "code",
   "execution_count": 15,
   "metadata": {},
   "outputs": [],
   "source": [
    "tokenizer = BertTokenizer.from_pretrained('bert-base-uncased')\n",
    "special_tokens_dict = {'additional_special_tokens': ['[unused0]', '[unused1]']}\n",
    "tokenizer.add_special_tokens(special_tokens_dict)\n",
    "\n",
    "batch_size = 8\n",
    "\n",
    "train_dataset = SentimentDataset(df_train['ModifiedSentence'], df_train['Polarity'], tokenizer)\n",
    "train_loader = DataLoader(train_dataset, batch_size=batch_size, shuffle=True)\n",
    "\n",
    "val_dataset = SentimentDataset(df_val['ModifiedSentence'], df_val['Polarity'], tokenizer)\n",
    "val_loader = DataLoader(val_dataset, batch_size=batch_size, shuffle=True)\n",
    "\n",
    "# initialize the model and optimizer\n",
    "n_classes = len(polarity_encoder.classes_)\n",
    "model = SentimentClassifier(n_classes=n_classes, tokenizer=tokenizer).to(device)\n",
    "optimizer = Adam(model.parameters(), lr=2e-5)\n",
    "\n",
    "\n",
    "# define the weights for the loss function\n",
    "class_proportions = {0: 0.26, 1: 0.04, 2: 0.7}\n",
    "class_weights = {class_label: (1.0 / proportion) for class_label, proportion in class_proportions.items()}\n",
    "weight_sum = sum(class_weights.values())\n",
    "num_classes = len(class_weights)\n",
    "class_weights = {class_label: (weight / weight_sum) * num_classes for class_label, weight in class_weights.items()}\n",
    "weights_tensor = torch.tensor(list(class_weights.values()), dtype=torch.float32)\n",
    "\n",
    "loss_fn = nn.CrossEntropyLoss(weight=weights_tensor).to(device)"
   ]
  },
  {
   "cell_type": "markdown",
   "metadata": {},
   "source": [
    "# Train loop"
   ]
  },
  {
   "cell_type": "code",
   "execution_count": 16,
   "metadata": {},
   "outputs": [],
   "source": [
    "def train(model, data_loader, loss_fn, optimizer, device):\n",
    "    model.train()\n",
    "    total_loss, total_correct = 0, 0\n",
    "\n",
    "    for batch in data_loader:\n",
    "        input_ids = batch['input_ids'].to(device)\n",
    "        attention_mask = batch['attention_mask'].to(device)\n",
    "        labels = batch['labels'].to(device)\n",
    "\n",
    "        optimizer.zero_grad()\n",
    "        outputs = model(input_ids, attention_mask)\n",
    "        \n",
    "        _, preds = torch.max(outputs, dim=1)\n",
    "        loss = loss_fn(outputs, labels)\n",
    "        total_loss += loss.item()\n",
    "        total_correct += torch.sum(preds == labels).item()\n",
    "\n",
    "        loss.backward()\n",
    "        optimizer.step()\n",
    "\n",
    "    average_loss = total_loss / len(data_loader)\n",
    "    accuracy = total_correct / len(data_loader.dataset)\n",
    "    return average_loss, accuracy\n",
    "\n",
    "def evaluate(model, data_loader, loss_fn, device):\n",
    "    model.eval()\n",
    "    total_loss, total_correct = 0, 0\n",
    "\n",
    "    with torch.no_grad():\n",
    "        for batch in data_loader:\n",
    "            input_ids = batch['input_ids'].to(device)\n",
    "            attention_mask = batch['attention_mask'].to(device)\n",
    "            labels = batch['labels'].to(device)\n",
    "\n",
    "            outputs = model(input_ids, attention_mask)\n",
    "            _, preds = torch.max(outputs, dim=1)\n",
    "            loss = loss_fn(outputs, labels)\n",
    "            total_loss += loss.item()\n",
    "            total_correct += torch.sum(preds == labels).item()\n",
    "\n",
    "    average_loss = total_loss / len(data_loader)\n",
    "    accuracy = total_correct / len(data_loader.dataset)\n",
    "    return average_loss, accuracy\n"
   ]
  },
  {
   "cell_type": "code",
   "execution_count": 17,
   "metadata": {},
   "outputs": [
    {
     "name": "stdout",
     "output_type": "stream",
     "text": [
      "Epoch 1/10 | Train Loss: 0.913 | Train Accuracy: 0.743 | Val Loss: 0.754 | Val Accuracy: 0.816\n",
      "Epoch 2/10 | Train Loss: 0.641 | Train Accuracy: 0.856 | Val Loss: 0.723 | Val Accuracy: 0.801\n",
      "Epoch 3/10 | Train Loss: 0.421 | Train Accuracy: 0.893 | Val Loss: 0.805 | Val Accuracy: 0.816\n",
      "Epoch 4/10 | Train Loss: 0.276 | Train Accuracy: 0.934 | Val Loss: 0.933 | Val Accuracy: 0.838\n",
      "Epoch 5/10 | Train Loss: 0.164 | Train Accuracy: 0.955 | Val Loss: 1.075 | Val Accuracy: 0.824\n",
      "Epoch 6/10 | Train Loss: 0.110 | Train Accuracy: 0.970 | Val Loss: 1.201 | Val Accuracy: 0.832\n",
      "Epoch 7/10 | Train Loss: 0.087 | Train Accuracy: 0.975 | Val Loss: 1.529 | Val Accuracy: 0.838\n",
      "Epoch 8/10 | Train Loss: 0.071 | Train Accuracy: 0.981 | Val Loss: 1.382 | Val Accuracy: 0.838\n",
      "Epoch 9/10 | Train Loss: 0.110 | Train Accuracy: 0.968 | Val Loss: 1.507 | Val Accuracy: 0.848\n",
      "Epoch 10/10 | Train Loss: 0.077 | Train Accuracy: 0.979 | Val Loss: 1.555 | Val Accuracy: 0.859\n"
     ]
    },
    {
     "data": {
      "image/png": "[encoded data removed]",
      "text/plain": [
       "<Figure size 1000x600 with 1 Axes>"
      ]
     },
     "metadata": {},
     "output_type": "display_data"
    },
    {
     "data": {
      "image/png": "[encoded data removed]",
      "text/plain": [
       "<Figure size 1000x600 with 1 Axes>"
      ]
     },
     "metadata": {},
     "output_type": "display_data"
    }
   ],
   "source": [
    "epochs = 10\n",
    "train_losses, val_losses = [], []\n",
    "train_accuracies, val_accuracies = [], []\n",
    "\n",
    "for epoch in range(epochs):\n",
    "    train_loss, train_accuracy = train(model, train_loader, loss_fn, optimizer, device)\n",
    "    val_loss, val_accuracy = evaluate(model, val_loader, loss_fn, device)\n",
    "    \n",
    "    train_losses.append(train_loss)\n",
    "    val_losses.append(val_loss)\n",
    "\n",
    "    train_accuracies.append(train_accuracy)\n",
    "    val_accuracies.append(val_accuracy)\n",
    "    \n",
    "    print(f'Epoch {epoch+1}/{epochs} | Train Loss: {train_loss:.3f} | Train Accuracy: {train_accuracy:.3f} | Val Loss: {val_loss:.3f} | Val Accuracy: {val_accuracy:.3f}')\n",
    "\n",
    "import matplotlib.pyplot as plt\n",
    "# Plotting the training and validation loss\n",
    "plt.figure(figsize=(10, 6))\n",
    "plt.plot(train_losses, label='Training Loss')\n",
    "plt.plot(val_losses, label='Validation Loss')\n",
    "plt.xlabel('Epoch')\n",
    "plt.ylabel('Loss')\n",
    "plt.title('Training and Validation Loss Over Epochs')\n",
    "plt.legend()\n",
    "plt.show()\n",
    "\n",
    "# Plotting the training and validation accuracy\n",
    "plt.figure(figsize=(10, 6))\n",
    "plt.plot(train_accuracies, label='Training Accuracy')\n",
    "plt.plot(val_accuracies, label='Validation Accuracy')\n",
    "plt.xlabel('Epoch')\n",
    "plt.ylabel('Accuracy')\n",
    "plt.title('Training and Validation Accuracy Over Epochs')\n",
    "\n",
    "plt.axhline(y=0.7, color='r', linestyle='--', label='Baseline Accuracy')\n",
    "\n",
    "plt.legend()\n",
    "plt.show()\n"
   ]
  },
  {
   "cell_type": "code",
   "execution_count": 18,
   "metadata": {},
   "outputs": [],
   "source": [
    "import torch\n",
    "\n",
    "def make_predictions(model, data_loader, device):\n",
    "    model.eval()\n",
    "    predictions = []\n",
    "    true_labels = []\n",
    "    \n",
    "    with torch.no_grad():\n",
    "        for batch in data_loader:\n",
    "            input_ids = batch['input_ids'].to(device)\n",
    "            attention_mask = batch['attention_mask'].to(device)\n",
    "            labels = batch['labels'].to(device)\n",
    "            \n",
    "            outputs = model(input_ids, attention_mask)\n",
    "            _, preds = torch.max(outputs, dim=1)\n",
    "            \n",
    "            predictions.extend(preds.cpu().numpy())\n",
    "            true_labels.extend(labels.cpu().numpy())\n",
    "    \n",
    "    return predictions, true_labels\n",
    "\n",
    "# Generate predictions and true labels\n",
    "predictions, true_labels = make_predictions(model, val_loader, device)\n"
   ]
  },
  {
   "cell_type": "code",
   "execution_count": 19,
   "metadata": {},
   "outputs": [
    {
     "data": {
      "image/png": "[encoded data removed]",
      "text/plain": [
       "<Figure size 1000x700 with 2 Axes>"
      ]
     },
     "metadata": {},
     "output_type": "display_data"
    }
   ],
   "source": [
    "from sklearn.metrics import confusion_matrix\n",
    "import seaborn as sns\n",
    "import matplotlib.pyplot as plt\n",
    "import numpy as np\n",
    "\n",
    "# Compute the confusion matrix\n",
    "cm = confusion_matrix(true_labels, predictions)\n",
    "\n",
    "# Plot the confusion matrix\n",
    "plt.figure(figsize=(10, 7))\n",
    "sns.set(font_scale=1.4)  # for label size\n",
    "sns.heatmap(cm, annot=True, annot_kws={\"size\": 16}, fmt='g', cmap='Blues', xticklabels=polarity_encoder.classes_, yticklabels=polarity_encoder.classes_)\n",
    "plt.xlabel('Predicted labels')\n",
    "plt.ylabel('True labels')\n",
    "plt.title('Confusion Matrix')\n",
    "plt.show()\n"
   ]
  },
  {
   "cell_type": "code",
   "execution_count": 20,
   "metadata": {},
   "outputs": [
    {
     "name": "stdout",
     "output_type": "stream",
     "text": [
      "              precision    recall  f1-score   support\n",
      "\n",
      "    negative       0.78      0.78      0.78        98\n",
      "     neutral       0.40      0.29      0.33        14\n",
      "    positive       0.90      0.92      0.91       264\n",
      "\n",
      "    accuracy                           0.86       376\n",
      "   macro avg       0.70      0.66      0.67       376\n",
      "weighted avg       0.85      0.86      0.86       376\n",
      "\n"
     ]
    }
   ],
   "source": [
    "# print the classification report\n",
    "from sklearn.metrics import classification_report\n",
    "\n",
    "print(classification_report(true_labels, predictions, target_names=polarity_encoder.classes_))\n"
   ]
  },
  {
   "cell_type": "code",
   "execution_count": 21,
   "metadata": {},
   "outputs": [
    {
     "name": "stdout",
     "output_type": "stream",
     "text": [
      "{0: 97, 1: 10, 2: 269}\n",
      "{0: 98, 1: 14, 2: 264}\n"
     ]
    }
   ],
   "source": [
    "# print how many of each unique values in predictions and true_labels\n",
    "unique, counts = np.unique(predictions, return_counts=True)\n",
    "print(dict(zip(unique, counts)))\n",
    "\n",
    "unique, counts = np.unique(true_labels, return_counts=True)\n",
    "print(dict(zip(unique, counts)))\n"
   ]
  },
  {
   "cell_type": "markdown",
   "metadata": {},
   "source": [
    "---"
   ]
  }
 ],
 "metadata": {
  "kernelspec": {
   "display_name": "nlpenv",
   "language": "python",
   "name": "python3"
  },
  "language_info": {
   "codemirror_mode": {
    "name": "ipython",
    "version": 3
   },
   "file_extension": ".py",
   "mimetype": "text/x-python",
   "name": "python",
   "nbconvert_exporter": "python",
   "pygments_lexer": "ipython3",
   "version": "3.10.13"
  }
 },
 "nbformat": 4,
 "nbformat_minor": 2
}
